{
 "cells": [
  {
   "cell_type": "code",
   "execution_count": 2,
   "metadata": {},
   "outputs": [],
   "source": [
    "# function for checking accuracy\n",
    "def check_accuracy(arr_f, arr_s):\n",
    "    deltas = []\n",
    "    if np.array_equal(arr_f, arr_s):\n",
    "        return [1.0, 0.0]\n",
    "    for i in range(len(arr_f)):\n",
    "        if arr_f[i] != arr_s[i]:\n",
    "            deltas.append(max(arr_f[i], arr_s[i]) - min(arr_f[i], arr_s[i]))\n",
    "    return [(len(arr_f) - len(deltas))/len(arr_f), np.sum(deltas)/len(deltas)]"
   ]
  },
  {
   "cell_type": "code",
   "execution_count": 19,
   "metadata": {},
   "outputs": [],
   "source": [
    "import pyopencl as cl\n",
    "from time import time # Import time tools\n",
    "\n",
    "\n",
    "class Framework:\n",
    "    def __init__(self):\n",
    "        self.f_ctx = cl.create_some_context()\n",
    "        self.f_queue = cl.CommandQueue(self.f_ctx, properties=cl.command_queue_properties.PROFILING_ENABLE)\n",
    "        self.sumOp = ArraySum(self.f_ctx)\n",
    "        \n",
    "    def test(self, inp1, inp2, expected, operation):    \n",
    "        mf = cl.mem_flags\n",
    "        f_a_g = cl.Buffer(self.f_ctx, mf.READ_ONLY | mf.COPY_HOST_PTR, hostbuf=inp1)\n",
    "        f_b_g = cl.Buffer(self.f_ctx, mf.READ_ONLY | mf.COPY_HOST_PTR, hostbuf=inp2)\n",
    "        f_res_g = cl.Buffer(self.f_ctx, mf.WRITE_ONLY, inp1.nbytes)\n",
    "        \n",
    "        if (operation == \"sum\"):\n",
    "            f_event = self.sumOp.__call__(self.f_queue, inp1, f_a_g, f_b_g, f_res_g)\n",
    "            cpu_stats = self.sumOp.sum_on_cpu(inp1, inp2) # CPU\n",
    "        \n",
    "        f_event.wait()\n",
    "        elapsed = 1e-9*(f_event.profile.end - f_event.profile.start) # Calculate the time it took to execute the kernel\n",
    "        mem_bw = 2*inp1.nbytes/(elapsed*1024*1024*1024)\n",
    "        print(\"GPU Kernel Time: {0}s\".format(elapsed) + \", \" + str(mem_bw) + \" Gb/s\") # Print the time it took to execute the kernel\n",
    "        f_res_np = np.empty_like(expected)\n",
    "        cl.enqueue_copy(self.f_queue, f_res_np, f_res_g)\n",
    "        accur = check_accuracy(expected, f_res_np)\n",
    "        print(\"Testing results:\\nResult is %g percent accurate, delta = %f\" % (accur[0]*100, accur[1]))\n",
    "        \n",
    "        # CPU\n",
    "        cpu_time = cpu_stats[2] - cpu_stats[1]\n",
    "        mem_cpu = 2*inp1.nbytes/(cpu_time*1024*1024*1024)\n",
    "        print(\"CPU Time: {0} s\".format(cpu_time) + \", \" + str(mem_cpu) + \" Gb/s\")\n",
    "        cpu_accur = check_accuracy(expected, cpu_stats[0])\n",
    "        print(\"Testing results:\\nResult is %g percent accurate, delta = %f\" % (cpu_accur[0]*100, cpu_accur[1]))"
   ]
  },
  {
   "cell_type": "code",
   "execution_count": 21,
   "metadata": {},
   "outputs": [
    {
     "name": "stdout",
     "output_type": "stream",
     "text": [
      "GPU Kernel Time: 0.031419s, 1.1856807340978115 Gb/s\n",
      "Testing results:\n",
      "Result is 100 percent accurate, delta = 0.000000\n",
      "CPU Time: 1.6655304431915283 s, 0.022366990130324043 Gb/s\n",
      "Testing results:\n",
      "Result is 100 percent accurate, delta = 0.000000\n"
     ]
    }
   ],
   "source": [
    "import numpy as np\n",
    "\n",
    "framework = Framework()\n",
    "a_np = np.random.rand(5000000).astype(np.float32)\n",
    "b_np = np.random.rand(5000000).astype(np.float32)\n",
    "perfect_res = []\n",
    "for i in range(len(a_np)):\n",
    "    perfect_res.append(a_np[i] + b_np[i])\n",
    "    \n",
    "framework.test(a_np, b_np, perfect_res, \"sum\")\n"
   ]
  },
  {
   "cell_type": "code",
   "execution_count": 16,
   "metadata": {},
   "outputs": [],
   "source": [
    "# possible operations representation way\n",
    "class ArraySum:\n",
    "    def __init__(self, sum_ctx):\n",
    "        self.sum_prg = cl.Program(sum_ctx, \"\"\"\n",
    "        __kernel void sum(\n",
    "            __global const float *a_g, __global const float *b_g, __global float *res_g)\n",
    "        {\n",
    "          int gid = get_global_id(0);\n",
    "          res_g[gid] = a_g[gid] + b_g[gid];\n",
    "        }\n",
    "        \"\"\").build()\n",
    "        \n",
    "    def __call__(self, sum_queue, sum_a_np, sum_a_g, sum_b_g, sum_res_g):\n",
    "        return self.sum_prg.sum(sum_queue, a_np.shape, None, sum_a_g, sum_b_g, sum_res_g)\n",
    "    # CPU\n",
    "    def sum_on_cpu(self, sum_a_g, sum_b_g):\n",
    "        res_cpu = np.empty_like(sum_a_g)\n",
    "        cpu_start_time = time() # Get the CPU start time\n",
    "        for i in range(len(sum_a_g)):\n",
    "            res_cpu[i] = sum_a_g[i] + sum_b_g[i]\n",
    "        cpu_end_time = time()\n",
    "        return [res_cpu, cpu_start_time, cpu_end_time]"
   ]
  }
 ],
 "metadata": {
  "kernelspec": {
   "display_name": "Python 3",
   "language": "python",
   "name": "python3"
  },
  "language_info": {
   "codemirror_mode": {
    "name": "ipython",
    "version": 3
   },
   "file_extension": ".py",
   "mimetype": "text/x-python",
   "name": "python",
   "nbconvert_exporter": "python",
   "pygments_lexer": "ipython3",
   "version": "3.6.5"
  }
 },
 "nbformat": 4,
 "nbformat_minor": 2
}
